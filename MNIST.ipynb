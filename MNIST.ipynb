{
  "nbformat": 4,
  "nbformat_minor": 0,
  "metadata": {
    "colab": {
      "provenance": [],
      "collapsed_sections": []
    },
    "kernelspec": {
      "name": "python3",
      "display_name": "Python 3"
    },
    "language_info": {
      "name": "python"
    },
    "gpuClass": "standard",
    "widgets": {
      "application/vnd.jupyter.widget-state+json": {
        "5e307a4e1e624f1a8824f68cdb608046": {
          "model_module": "@jupyter-widgets/controls",
          "model_name": "HBoxModel",
          "model_module_version": "1.5.0",
          "state": {
            "_dom_classes": [],
            "_model_module": "@jupyter-widgets/controls",
            "_model_module_version": "1.5.0",
            "_model_name": "HBoxModel",
            "_view_count": null,
            "_view_module": "@jupyter-widgets/controls",
            "_view_module_version": "1.5.0",
            "_view_name": "HBoxView",
            "box_style": "",
            "children": [
              "IPY_MODEL_0c811ffa2a01446aaa38fe3b997757a1",
              "IPY_MODEL_d170641daca6468fa6444b48eb89f957",
              "IPY_MODEL_cdc43e9a8308445da20523b015ac898d"
            ],
            "layout": "IPY_MODEL_e94a9fe1973949e9a4911751a6c4d455"
          }
        },
        "0c811ffa2a01446aaa38fe3b997757a1": {
          "model_module": "@jupyter-widgets/controls",
          "model_name": "HTMLModel",
          "model_module_version": "1.5.0",
          "state": {
            "_dom_classes": [],
            "_model_module": "@jupyter-widgets/controls",
            "_model_module_version": "1.5.0",
            "_model_name": "HTMLModel",
            "_view_count": null,
            "_view_module": "@jupyter-widgets/controls",
            "_view_module_version": "1.5.0",
            "_view_name": "HTMLView",
            "description": "",
            "description_tooltip": null,
            "layout": "IPY_MODEL_fadae89ff53b454db41f7056366765fc",
            "placeholder": "​",
            "style": "IPY_MODEL_15e3b502225d430b9025033afbf42dae",
            "value": "100%"
          }
        },
        "d170641daca6468fa6444b48eb89f957": {
          "model_module": "@jupyter-widgets/controls",
          "model_name": "FloatProgressModel",
          "model_module_version": "1.5.0",
          "state": {
            "_dom_classes": [],
            "_model_module": "@jupyter-widgets/controls",
            "_model_module_version": "1.5.0",
            "_model_name": "FloatProgressModel",
            "_view_count": null,
            "_view_module": "@jupyter-widgets/controls",
            "_view_module_version": "1.5.0",
            "_view_name": "ProgressView",
            "bar_style": "success",
            "description": "",
            "description_tooltip": null,
            "layout": "IPY_MODEL_3ce1f7ac1ace43f792c001e93ec32e80",
            "max": 9912422,
            "min": 0,
            "orientation": "horizontal",
            "style": "IPY_MODEL_5cb12f6d3aae46dfa7890ff820dc7464",
            "value": 9912422
          }
        },
        "cdc43e9a8308445da20523b015ac898d": {
          "model_module": "@jupyter-widgets/controls",
          "model_name": "HTMLModel",
          "model_module_version": "1.5.0",
          "state": {
            "_dom_classes": [],
            "_model_module": "@jupyter-widgets/controls",
            "_model_module_version": "1.5.0",
            "_model_name": "HTMLModel",
            "_view_count": null,
            "_view_module": "@jupyter-widgets/controls",
            "_view_module_version": "1.5.0",
            "_view_name": "HTMLView",
            "description": "",
            "description_tooltip": null,
            "layout": "IPY_MODEL_2a936b8e80ff46159164c85434b5383a",
            "placeholder": "​",
            "style": "IPY_MODEL_4b021516df3d43f4a0be004d0bcb5014",
            "value": " 9912422/9912422 [00:00&lt;00:00, 16059953.15it/s]"
          }
        },
        "e94a9fe1973949e9a4911751a6c4d455": {
          "model_module": "@jupyter-widgets/base",
          "model_name": "LayoutModel",
          "model_module_version": "1.2.0",
          "state": {
            "_model_module": "@jupyter-widgets/base",
            "_model_module_version": "1.2.0",
            "_model_name": "LayoutModel",
            "_view_count": null,
            "_view_module": "@jupyter-widgets/base",
            "_view_module_version": "1.2.0",
            "_view_name": "LayoutView",
            "align_content": null,
            "align_items": null,
            "align_self": null,
            "border": null,
            "bottom": null,
            "display": null,
            "flex": null,
            "flex_flow": null,
            "grid_area": null,
            "grid_auto_columns": null,
            "grid_auto_flow": null,
            "grid_auto_rows": null,
            "grid_column": null,
            "grid_gap": null,
            "grid_row": null,
            "grid_template_areas": null,
            "grid_template_columns": null,
            "grid_template_rows": null,
            "height": null,
            "justify_content": null,
            "justify_items": null,
            "left": null,
            "margin": null,
            "max_height": null,
            "max_width": null,
            "min_height": null,
            "min_width": null,
            "object_fit": null,
            "object_position": null,
            "order": null,
            "overflow": null,
            "overflow_x": null,
            "overflow_y": null,
            "padding": null,
            "right": null,
            "top": null,
            "visibility": null,
            "width": null
          }
        },
        "fadae89ff53b454db41f7056366765fc": {
          "model_module": "@jupyter-widgets/base",
          "model_name": "LayoutModel",
          "model_module_version": "1.2.0",
          "state": {
            "_model_module": "@jupyter-widgets/base",
            "_model_module_version": "1.2.0",
            "_model_name": "LayoutModel",
            "_view_count": null,
            "_view_module": "@jupyter-widgets/base",
            "_view_module_version": "1.2.0",
            "_view_name": "LayoutView",
            "align_content": null,
            "align_items": null,
            "align_self": null,
            "border": null,
            "bottom": null,
            "display": null,
            "flex": null,
            "flex_flow": null,
            "grid_area": null,
            "grid_auto_columns": null,
            "grid_auto_flow": null,
            "grid_auto_rows": null,
            "grid_column": null,
            "grid_gap": null,
            "grid_row": null,
            "grid_template_areas": null,
            "grid_template_columns": null,
            "grid_template_rows": null,
            "height": null,
            "justify_content": null,
            "justify_items": null,
            "left": null,
            "margin": null,
            "max_height": null,
            "max_width": null,
            "min_height": null,
            "min_width": null,
            "object_fit": null,
            "object_position": null,
            "order": null,
            "overflow": null,
            "overflow_x": null,
            "overflow_y": null,
            "padding": null,
            "right": null,
            "top": null,
            "visibility": null,
            "width": null
          }
        },
        "15e3b502225d430b9025033afbf42dae": {
          "model_module": "@jupyter-widgets/controls",
          "model_name": "DescriptionStyleModel",
          "model_module_version": "1.5.0",
          "state": {
            "_model_module": "@jupyter-widgets/controls",
            "_model_module_version": "1.5.0",
            "_model_name": "DescriptionStyleModel",
            "_view_count": null,
            "_view_module": "@jupyter-widgets/base",
            "_view_module_version": "1.2.0",
            "_view_name": "StyleView",
            "description_width": ""
          }
        },
        "3ce1f7ac1ace43f792c001e93ec32e80": {
          "model_module": "@jupyter-widgets/base",
          "model_name": "LayoutModel",
          "model_module_version": "1.2.0",
          "state": {
            "_model_module": "@jupyter-widgets/base",
            "_model_module_version": "1.2.0",
            "_model_name": "LayoutModel",
            "_view_count": null,
            "_view_module": "@jupyter-widgets/base",
            "_view_module_version": "1.2.0",
            "_view_name": "LayoutView",
            "align_content": null,
            "align_items": null,
            "align_self": null,
            "border": null,
            "bottom": null,
            "display": null,
            "flex": null,
            "flex_flow": null,
            "grid_area": null,
            "grid_auto_columns": null,
            "grid_auto_flow": null,
            "grid_auto_rows": null,
            "grid_column": null,
            "grid_gap": null,
            "grid_row": null,
            "grid_template_areas": null,
            "grid_template_columns": null,
            "grid_template_rows": null,
            "height": null,
            "justify_content": null,
            "justify_items": null,
            "left": null,
            "margin": null,
            "max_height": null,
            "max_width": null,
            "min_height": null,
            "min_width": null,
            "object_fit": null,
            "object_position": null,
            "order": null,
            "overflow": null,
            "overflow_x": null,
            "overflow_y": null,
            "padding": null,
            "right": null,
            "top": null,
            "visibility": null,
            "width": null
          }
        },
        "5cb12f6d3aae46dfa7890ff820dc7464": {
          "model_module": "@jupyter-widgets/controls",
          "model_name": "ProgressStyleModel",
          "model_module_version": "1.5.0",
          "state": {
            "_model_module": "@jupyter-widgets/controls",
            "_model_module_version": "1.5.0",
            "_model_name": "ProgressStyleModel",
            "_view_count": null,
            "_view_module": "@jupyter-widgets/base",
            "_view_module_version": "1.2.0",
            "_view_name": "StyleView",
            "bar_color": null,
            "description_width": ""
          }
        },
        "2a936b8e80ff46159164c85434b5383a": {
          "model_module": "@jupyter-widgets/base",
          "model_name": "LayoutModel",
          "model_module_version": "1.2.0",
          "state": {
            "_model_module": "@jupyter-widgets/base",
            "_model_module_version": "1.2.0",
            "_model_name": "LayoutModel",
            "_view_count": null,
            "_view_module": "@jupyter-widgets/base",
            "_view_module_version": "1.2.0",
            "_view_name": "LayoutView",
            "align_content": null,
            "align_items": null,
            "align_self": null,
            "border": null,
            "bottom": null,
            "display": null,
            "flex": null,
            "flex_flow": null,
            "grid_area": null,
            "grid_auto_columns": null,
            "grid_auto_flow": null,
            "grid_auto_rows": null,
            "grid_column": null,
            "grid_gap": null,
            "grid_row": null,
            "grid_template_areas": null,
            "grid_template_columns": null,
            "grid_template_rows": null,
            "height": null,
            "justify_content": null,
            "justify_items": null,
            "left": null,
            "margin": null,
            "max_height": null,
            "max_width": null,
            "min_height": null,
            "min_width": null,
            "object_fit": null,
            "object_position": null,
            "order": null,
            "overflow": null,
            "overflow_x": null,
            "overflow_y": null,
            "padding": null,
            "right": null,
            "top": null,
            "visibility": null,
            "width": null
          }
        },
        "4b021516df3d43f4a0be004d0bcb5014": {
          "model_module": "@jupyter-widgets/controls",
          "model_name": "DescriptionStyleModel",
          "model_module_version": "1.5.0",
          "state": {
            "_model_module": "@jupyter-widgets/controls",
            "_model_module_version": "1.5.0",
            "_model_name": "DescriptionStyleModel",
            "_view_count": null,
            "_view_module": "@jupyter-widgets/base",
            "_view_module_version": "1.2.0",
            "_view_name": "StyleView",
            "description_width": ""
          }
        },
        "ae45cc0908af44c997a4d01de44efe62": {
          "model_module": "@jupyter-widgets/controls",
          "model_name": "HBoxModel",
          "model_module_version": "1.5.0",
          "state": {
            "_dom_classes": [],
            "_model_module": "@jupyter-widgets/controls",
            "_model_module_version": "1.5.0",
            "_model_name": "HBoxModel",
            "_view_count": null,
            "_view_module": "@jupyter-widgets/controls",
            "_view_module_version": "1.5.0",
            "_view_name": "HBoxView",
            "box_style": "",
            "children": [
              "IPY_MODEL_0d8b47ac847c45cbbf3091dc9498e14d",
              "IPY_MODEL_7a47cca383904296b080e9cc6ba477ae",
              "IPY_MODEL_5206cd855eb140b5948614a19718ed38"
            ],
            "layout": "IPY_MODEL_59fbd5263b1a46acabfb79630f46ff63"
          }
        },
        "0d8b47ac847c45cbbf3091dc9498e14d": {
          "model_module": "@jupyter-widgets/controls",
          "model_name": "HTMLModel",
          "model_module_version": "1.5.0",
          "state": {
            "_dom_classes": [],
            "_model_module": "@jupyter-widgets/controls",
            "_model_module_version": "1.5.0",
            "_model_name": "HTMLModel",
            "_view_count": null,
            "_view_module": "@jupyter-widgets/controls",
            "_view_module_version": "1.5.0",
            "_view_name": "HTMLView",
            "description": "",
            "description_tooltip": null,
            "layout": "IPY_MODEL_0e97bb614bd247538995a71d4e533d1c",
            "placeholder": "​",
            "style": "IPY_MODEL_9c96d4a87e264eb395c6a016742c848c",
            "value": "100%"
          }
        },
        "7a47cca383904296b080e9cc6ba477ae": {
          "model_module": "@jupyter-widgets/controls",
          "model_name": "FloatProgressModel",
          "model_module_version": "1.5.0",
          "state": {
            "_dom_classes": [],
            "_model_module": "@jupyter-widgets/controls",
            "_model_module_version": "1.5.0",
            "_model_name": "FloatProgressModel",
            "_view_count": null,
            "_view_module": "@jupyter-widgets/controls",
            "_view_module_version": "1.5.0",
            "_view_name": "ProgressView",
            "bar_style": "success",
            "description": "",
            "description_tooltip": null,
            "layout": "IPY_MODEL_2bf1b0d9e50c424e9f5c1fd3313a800c",
            "max": 28881,
            "min": 0,
            "orientation": "horizontal",
            "style": "IPY_MODEL_8cc4451ed44a4287aee6ced60f0e5fed",
            "value": 28881
          }
        },
        "5206cd855eb140b5948614a19718ed38": {
          "model_module": "@jupyter-widgets/controls",
          "model_name": "HTMLModel",
          "model_module_version": "1.5.0",
          "state": {
            "_dom_classes": [],
            "_model_module": "@jupyter-widgets/controls",
            "_model_module_version": "1.5.0",
            "_model_name": "HTMLModel",
            "_view_count": null,
            "_view_module": "@jupyter-widgets/controls",
            "_view_module_version": "1.5.0",
            "_view_name": "HTMLView",
            "description": "",
            "description_tooltip": null,
            "layout": "IPY_MODEL_d62aa848f3324330aa02443988517473",
            "placeholder": "​",
            "style": "IPY_MODEL_47a99438b92e46e2b2d61a61300ba660",
            "value": " 28881/28881 [00:00&lt;00:00, 907743.85it/s]"
          }
        },
        "59fbd5263b1a46acabfb79630f46ff63": {
          "model_module": "@jupyter-widgets/base",
          "model_name": "LayoutModel",
          "model_module_version": "1.2.0",
          "state": {
            "_model_module": "@jupyter-widgets/base",
            "_model_module_version": "1.2.0",
            "_model_name": "LayoutModel",
            "_view_count": null,
            "_view_module": "@jupyter-widgets/base",
            "_view_module_version": "1.2.0",
            "_view_name": "LayoutView",
            "align_content": null,
            "align_items": null,
            "align_self": null,
            "border": null,
            "bottom": null,
            "display": null,
            "flex": null,
            "flex_flow": null,
            "grid_area": null,
            "grid_auto_columns": null,
            "grid_auto_flow": null,
            "grid_auto_rows": null,
            "grid_column": null,
            "grid_gap": null,
            "grid_row": null,
            "grid_template_areas": null,
            "grid_template_columns": null,
            "grid_template_rows": null,
            "height": null,
            "justify_content": null,
            "justify_items": null,
            "left": null,
            "margin": null,
            "max_height": null,
            "max_width": null,
            "min_height": null,
            "min_width": null,
            "object_fit": null,
            "object_position": null,
            "order": null,
            "overflow": null,
            "overflow_x": null,
            "overflow_y": null,
            "padding": null,
            "right": null,
            "top": null,
            "visibility": null,
            "width": null
          }
        },
        "0e97bb614bd247538995a71d4e533d1c": {
          "model_module": "@jupyter-widgets/base",
          "model_name": "LayoutModel",
          "model_module_version": "1.2.0",
          "state": {
            "_model_module": "@jupyter-widgets/base",
            "_model_module_version": "1.2.0",
            "_model_name": "LayoutModel",
            "_view_count": null,
            "_view_module": "@jupyter-widgets/base",
            "_view_module_version": "1.2.0",
            "_view_name": "LayoutView",
            "align_content": null,
            "align_items": null,
            "align_self": null,
            "border": null,
            "bottom": null,
            "display": null,
            "flex": null,
            "flex_flow": null,
            "grid_area": null,
            "grid_auto_columns": null,
            "grid_auto_flow": null,
            "grid_auto_rows": null,
            "grid_column": null,
            "grid_gap": null,
            "grid_row": null,
            "grid_template_areas": null,
            "grid_template_columns": null,
            "grid_template_rows": null,
            "height": null,
            "justify_content": null,
            "justify_items": null,
            "left": null,
            "margin": null,
            "max_height": null,
            "max_width": null,
            "min_height": null,
            "min_width": null,
            "object_fit": null,
            "object_position": null,
            "order": null,
            "overflow": null,
            "overflow_x": null,
            "overflow_y": null,
            "padding": null,
            "right": null,
            "top": null,
            "visibility": null,
            "width": null
          }
        },
        "9c96d4a87e264eb395c6a016742c848c": {
          "model_module": "@jupyter-widgets/controls",
          "model_name": "DescriptionStyleModel",
          "model_module_version": "1.5.0",
          "state": {
            "_model_module": "@jupyter-widgets/controls",
            "_model_module_version": "1.5.0",
            "_model_name": "DescriptionStyleModel",
            "_view_count": null,
            "_view_module": "@jupyter-widgets/base",
            "_view_module_version": "1.2.0",
            "_view_name": "StyleView",
            "description_width": ""
          }
        },
        "2bf1b0d9e50c424e9f5c1fd3313a800c": {
          "model_module": "@jupyter-widgets/base",
          "model_name": "LayoutModel",
          "model_module_version": "1.2.0",
          "state": {
            "_model_module": "@jupyter-widgets/base",
            "_model_module_version": "1.2.0",
            "_model_name": "LayoutModel",
            "_view_count": null,
            "_view_module": "@jupyter-widgets/base",
            "_view_module_version": "1.2.0",
            "_view_name": "LayoutView",
            "align_content": null,
            "align_items": null,
            "align_self": null,
            "border": null,
            "bottom": null,
            "display": null,
            "flex": null,
            "flex_flow": null,
            "grid_area": null,
            "grid_auto_columns": null,
            "grid_auto_flow": null,
            "grid_auto_rows": null,
            "grid_column": null,
            "grid_gap": null,
            "grid_row": null,
            "grid_template_areas": null,
            "grid_template_columns": null,
            "grid_template_rows": null,
            "height": null,
            "justify_content": null,
            "justify_items": null,
            "left": null,
            "margin": null,
            "max_height": null,
            "max_width": null,
            "min_height": null,
            "min_width": null,
            "object_fit": null,
            "object_position": null,
            "order": null,
            "overflow": null,
            "overflow_x": null,
            "overflow_y": null,
            "padding": null,
            "right": null,
            "top": null,
            "visibility": null,
            "width": null
          }
        },
        "8cc4451ed44a4287aee6ced60f0e5fed": {
          "model_module": "@jupyter-widgets/controls",
          "model_name": "ProgressStyleModel",
          "model_module_version": "1.5.0",
          "state": {
            "_model_module": "@jupyter-widgets/controls",
            "_model_module_version": "1.5.0",
            "_model_name": "ProgressStyleModel",
            "_view_count": null,
            "_view_module": "@jupyter-widgets/base",
            "_view_module_version": "1.2.0",
            "_view_name": "StyleView",
            "bar_color": null,
            "description_width": ""
          }
        },
        "d62aa848f3324330aa02443988517473": {
          "model_module": "@jupyter-widgets/base",
          "model_name": "LayoutModel",
          "model_module_version": "1.2.0",
          "state": {
            "_model_module": "@jupyter-widgets/base",
            "_model_module_version": "1.2.0",
            "_model_name": "LayoutModel",
            "_view_count": null,
            "_view_module": "@jupyter-widgets/base",
            "_view_module_version": "1.2.0",
            "_view_name": "LayoutView",
            "align_content": null,
            "align_items": null,
            "align_self": null,
            "border": null,
            "bottom": null,
            "display": null,
            "flex": null,
            "flex_flow": null,
            "grid_area": null,
            "grid_auto_columns": null,
            "grid_auto_flow": null,
            "grid_auto_rows": null,
            "grid_column": null,
            "grid_gap": null,
            "grid_row": null,
            "grid_template_areas": null,
            "grid_template_columns": null,
            "grid_template_rows": null,
            "height": null,
            "justify_content": null,
            "justify_items": null,
            "left": null,
            "margin": null,
            "max_height": null,
            "max_width": null,
            "min_height": null,
            "min_width": null,
            "object_fit": null,
            "object_position": null,
            "order": null,
            "overflow": null,
            "overflow_x": null,
            "overflow_y": null,
            "padding": null,
            "right": null,
            "top": null,
            "visibility": null,
            "width": null
          }
        },
        "47a99438b92e46e2b2d61a61300ba660": {
          "model_module": "@jupyter-widgets/controls",
          "model_name": "DescriptionStyleModel",
          "model_module_version": "1.5.0",
          "state": {
            "_model_module": "@jupyter-widgets/controls",
            "_model_module_version": "1.5.0",
            "_model_name": "DescriptionStyleModel",
            "_view_count": null,
            "_view_module": "@jupyter-widgets/base",
            "_view_module_version": "1.2.0",
            "_view_name": "StyleView",
            "description_width": ""
          }
        },
        "7b32273aaf3445cb89e6d6b84d26e95b": {
          "model_module": "@jupyter-widgets/controls",
          "model_name": "HBoxModel",
          "model_module_version": "1.5.0",
          "state": {
            "_dom_classes": [],
            "_model_module": "@jupyter-widgets/controls",
            "_model_module_version": "1.5.0",
            "_model_name": "HBoxModel",
            "_view_count": null,
            "_view_module": "@jupyter-widgets/controls",
            "_view_module_version": "1.5.0",
            "_view_name": "HBoxView",
            "box_style": "",
            "children": [
              "IPY_MODEL_9bbef7117aeb4c38b8c2913d980507ad",
              "IPY_MODEL_3dd24d88085b451383017592f004827f",
              "IPY_MODEL_33de89a5621446d2922178259b31dbea"
            ],
            "layout": "IPY_MODEL_d5eff2c7011643d2b795ecfda88862bb"
          }
        },
        "9bbef7117aeb4c38b8c2913d980507ad": {
          "model_module": "@jupyter-widgets/controls",
          "model_name": "HTMLModel",
          "model_module_version": "1.5.0",
          "state": {
            "_dom_classes": [],
            "_model_module": "@jupyter-widgets/controls",
            "_model_module_version": "1.5.0",
            "_model_name": "HTMLModel",
            "_view_count": null,
            "_view_module": "@jupyter-widgets/controls",
            "_view_module_version": "1.5.0",
            "_view_name": "HTMLView",
            "description": "",
            "description_tooltip": null,
            "layout": "IPY_MODEL_2a6e0a97a73d4a35a6a6bc1141158f75",
            "placeholder": "​",
            "style": "IPY_MODEL_b4b00343fe59453ea2b3d63647b3017b",
            "value": "100%"
          }
        },
        "3dd24d88085b451383017592f004827f": {
          "model_module": "@jupyter-widgets/controls",
          "model_name": "FloatProgressModel",
          "model_module_version": "1.5.0",
          "state": {
            "_dom_classes": [],
            "_model_module": "@jupyter-widgets/controls",
            "_model_module_version": "1.5.0",
            "_model_name": "FloatProgressModel",
            "_view_count": null,
            "_view_module": "@jupyter-widgets/controls",
            "_view_module_version": "1.5.0",
            "_view_name": "ProgressView",
            "bar_style": "success",
            "description": "",
            "description_tooltip": null,
            "layout": "IPY_MODEL_89cdff0adfbf43e69c06d209d6534cd5",
            "max": 1648877,
            "min": 0,
            "orientation": "horizontal",
            "style": "IPY_MODEL_a5f30911616b43b1a11a1f2db2a9ac7d",
            "value": 1648877
          }
        },
        "33de89a5621446d2922178259b31dbea": {
          "model_module": "@jupyter-widgets/controls",
          "model_name": "HTMLModel",
          "model_module_version": "1.5.0",
          "state": {
            "_dom_classes": [],
            "_model_module": "@jupyter-widgets/controls",
            "_model_module_version": "1.5.0",
            "_model_name": "HTMLModel",
            "_view_count": null,
            "_view_module": "@jupyter-widgets/controls",
            "_view_module_version": "1.5.0",
            "_view_name": "HTMLView",
            "description": "",
            "description_tooltip": null,
            "layout": "IPY_MODEL_c0e6bd1f691e445a98aecf6c78081c20",
            "placeholder": "​",
            "style": "IPY_MODEL_0651079d76ed49518831b2a27bfe17fd",
            "value": " 1648877/1648877 [00:00&lt;00:00, 8297475.39it/s]"
          }
        },
        "d5eff2c7011643d2b795ecfda88862bb": {
          "model_module": "@jupyter-widgets/base",
          "model_name": "LayoutModel",
          "model_module_version": "1.2.0",
          "state": {
            "_model_module": "@jupyter-widgets/base",
            "_model_module_version": "1.2.0",
            "_model_name": "LayoutModel",
            "_view_count": null,
            "_view_module": "@jupyter-widgets/base",
            "_view_module_version": "1.2.0",
            "_view_name": "LayoutView",
            "align_content": null,
            "align_items": null,
            "align_self": null,
            "border": null,
            "bottom": null,
            "display": null,
            "flex": null,
            "flex_flow": null,
            "grid_area": null,
            "grid_auto_columns": null,
            "grid_auto_flow": null,
            "grid_auto_rows": null,
            "grid_column": null,
            "grid_gap": null,
            "grid_row": null,
            "grid_template_areas": null,
            "grid_template_columns": null,
            "grid_template_rows": null,
            "height": null,
            "justify_content": null,
            "justify_items": null,
            "left": null,
            "margin": null,
            "max_height": null,
            "max_width": null,
            "min_height": null,
            "min_width": null,
            "object_fit": null,
            "object_position": null,
            "order": null,
            "overflow": null,
            "overflow_x": null,
            "overflow_y": null,
            "padding": null,
            "right": null,
            "top": null,
            "visibility": null,
            "width": null
          }
        },
        "2a6e0a97a73d4a35a6a6bc1141158f75": {
          "model_module": "@jupyter-widgets/base",
          "model_name": "LayoutModel",
          "model_module_version": "1.2.0",
          "state": {
            "_model_module": "@jupyter-widgets/base",
            "_model_module_version": "1.2.0",
            "_model_name": "LayoutModel",
            "_view_count": null,
            "_view_module": "@jupyter-widgets/base",
            "_view_module_version": "1.2.0",
            "_view_name": "LayoutView",
            "align_content": null,
            "align_items": null,
            "align_self": null,
            "border": null,
            "bottom": null,
            "display": null,
            "flex": null,
            "flex_flow": null,
            "grid_area": null,
            "grid_auto_columns": null,
            "grid_auto_flow": null,
            "grid_auto_rows": null,
            "grid_column": null,
            "grid_gap": null,
            "grid_row": null,
            "grid_template_areas": null,
            "grid_template_columns": null,
            "grid_template_rows": null,
            "height": null,
            "justify_content": null,
            "justify_items": null,
            "left": null,
            "margin": null,
            "max_height": null,
            "max_width": null,
            "min_height": null,
            "min_width": null,
            "object_fit": null,
            "object_position": null,
            "order": null,
            "overflow": null,
            "overflow_x": null,
            "overflow_y": null,
            "padding": null,
            "right": null,
            "top": null,
            "visibility": null,
            "width": null
          }
        },
        "b4b00343fe59453ea2b3d63647b3017b": {
          "model_module": "@jupyter-widgets/controls",
          "model_name": "DescriptionStyleModel",
          "model_module_version": "1.5.0",
          "state": {
            "_model_module": "@jupyter-widgets/controls",
            "_model_module_version": "1.5.0",
            "_model_name": "DescriptionStyleModel",
            "_view_count": null,
            "_view_module": "@jupyter-widgets/base",
            "_view_module_version": "1.2.0",
            "_view_name": "StyleView",
            "description_width": ""
          }
        },
        "89cdff0adfbf43e69c06d209d6534cd5": {
          "model_module": "@jupyter-widgets/base",
          "model_name": "LayoutModel",
          "model_module_version": "1.2.0",
          "state": {
            "_model_module": "@jupyter-widgets/base",
            "_model_module_version": "1.2.0",
            "_model_name": "LayoutModel",
            "_view_count": null,
            "_view_module": "@jupyter-widgets/base",
            "_view_module_version": "1.2.0",
            "_view_name": "LayoutView",
            "align_content": null,
            "align_items": null,
            "align_self": null,
            "border": null,
            "bottom": null,
            "display": null,
            "flex": null,
            "flex_flow": null,
            "grid_area": null,
            "grid_auto_columns": null,
            "grid_auto_flow": null,
            "grid_auto_rows": null,
            "grid_column": null,
            "grid_gap": null,
            "grid_row": null,
            "grid_template_areas": null,
            "grid_template_columns": null,
            "grid_template_rows": null,
            "height": null,
            "justify_content": null,
            "justify_items": null,
            "left": null,
            "margin": null,
            "max_height": null,
            "max_width": null,
            "min_height": null,
            "min_width": null,
            "object_fit": null,
            "object_position": null,
            "order": null,
            "overflow": null,
            "overflow_x": null,
            "overflow_y": null,
            "padding": null,
            "right": null,
            "top": null,
            "visibility": null,
            "width": null
          }
        },
        "a5f30911616b43b1a11a1f2db2a9ac7d": {
          "model_module": "@jupyter-widgets/controls",
          "model_name": "ProgressStyleModel",
          "model_module_version": "1.5.0",
          "state": {
            "_model_module": "@jupyter-widgets/controls",
            "_model_module_version": "1.5.0",
            "_model_name": "ProgressStyleModel",
            "_view_count": null,
            "_view_module": "@jupyter-widgets/base",
            "_view_module_version": "1.2.0",
            "_view_name": "StyleView",
            "bar_color": null,
            "description_width": ""
          }
        },
        "c0e6bd1f691e445a98aecf6c78081c20": {
          "model_module": "@jupyter-widgets/base",
          "model_name": "LayoutModel",
          "model_module_version": "1.2.0",
          "state": {
            "_model_module": "@jupyter-widgets/base",
            "_model_module_version": "1.2.0",
            "_model_name": "LayoutModel",
            "_view_count": null,
            "_view_module": "@jupyter-widgets/base",
            "_view_module_version": "1.2.0",
            "_view_name": "LayoutView",
            "align_content": null,
            "align_items": null,
            "align_self": null,
            "border": null,
            "bottom": null,
            "display": null,
            "flex": null,
            "flex_flow": null,
            "grid_area": null,
            "grid_auto_columns": null,
            "grid_auto_flow": null,
            "grid_auto_rows": null,
            "grid_column": null,
            "grid_gap": null,
            "grid_row": null,
            "grid_template_areas": null,
            "grid_template_columns": null,
            "grid_template_rows": null,
            "height": null,
            "justify_content": null,
            "justify_items": null,
            "left": null,
            "margin": null,
            "max_height": null,
            "max_width": null,
            "min_height": null,
            "min_width": null,
            "object_fit": null,
            "object_position": null,
            "order": null,
            "overflow": null,
            "overflow_x": null,
            "overflow_y": null,
            "padding": null,
            "right": null,
            "top": null,
            "visibility": null,
            "width": null
          }
        },
        "0651079d76ed49518831b2a27bfe17fd": {
          "model_module": "@jupyter-widgets/controls",
          "model_name": "DescriptionStyleModel",
          "model_module_version": "1.5.0",
          "state": {
            "_model_module": "@jupyter-widgets/controls",
            "_model_module_version": "1.5.0",
            "_model_name": "DescriptionStyleModel",
            "_view_count": null,
            "_view_module": "@jupyter-widgets/base",
            "_view_module_version": "1.2.0",
            "_view_name": "StyleView",
            "description_width": ""
          }
        },
        "6f336842a65e4b9f8194c1c99142ac40": {
          "model_module": "@jupyter-widgets/controls",
          "model_name": "HBoxModel",
          "model_module_version": "1.5.0",
          "state": {
            "_dom_classes": [],
            "_model_module": "@jupyter-widgets/controls",
            "_model_module_version": "1.5.0",
            "_model_name": "HBoxModel",
            "_view_count": null,
            "_view_module": "@jupyter-widgets/controls",
            "_view_module_version": "1.5.0",
            "_view_name": "HBoxView",
            "box_style": "",
            "children": [
              "IPY_MODEL_0b272006c64a43a18ebcedb6ce6c4dbc",
              "IPY_MODEL_6e324ad027ea4eee8a3022a186bff44a",
              "IPY_MODEL_4201969a6f7f43878d06d7b594cf1b41"
            ],
            "layout": "IPY_MODEL_b43b2782dcf24a08806fdf4f87628ca4"
          }
        },
        "0b272006c64a43a18ebcedb6ce6c4dbc": {
          "model_module": "@jupyter-widgets/controls",
          "model_name": "HTMLModel",
          "model_module_version": "1.5.0",
          "state": {
            "_dom_classes": [],
            "_model_module": "@jupyter-widgets/controls",
            "_model_module_version": "1.5.0",
            "_model_name": "HTMLModel",
            "_view_count": null,
            "_view_module": "@jupyter-widgets/controls",
            "_view_module_version": "1.5.0",
            "_view_name": "HTMLView",
            "description": "",
            "description_tooltip": null,
            "layout": "IPY_MODEL_ba3e213813834c6cb8729446497607f1",
            "placeholder": "​",
            "style": "IPY_MODEL_4684be1f3631485988766fd8b30625cb",
            "value": "100%"
          }
        },
        "6e324ad027ea4eee8a3022a186bff44a": {
          "model_module": "@jupyter-widgets/controls",
          "model_name": "FloatProgressModel",
          "model_module_version": "1.5.0",
          "state": {
            "_dom_classes": [],
            "_model_module": "@jupyter-widgets/controls",
            "_model_module_version": "1.5.0",
            "_model_name": "FloatProgressModel",
            "_view_count": null,
            "_view_module": "@jupyter-widgets/controls",
            "_view_module_version": "1.5.0",
            "_view_name": "ProgressView",
            "bar_style": "success",
            "description": "",
            "description_tooltip": null,
            "layout": "IPY_MODEL_de8c29b4aa6f4f12a6e60e28ef0dc8ab",
            "max": 4542,
            "min": 0,
            "orientation": "horizontal",
            "style": "IPY_MODEL_f1412bcd6a8e4052bc77bb01eac2d24c",
            "value": 4542
          }
        },
        "4201969a6f7f43878d06d7b594cf1b41": {
          "model_module": "@jupyter-widgets/controls",
          "model_name": "HTMLModel",
          "model_module_version": "1.5.0",
          "state": {
            "_dom_classes": [],
            "_model_module": "@jupyter-widgets/controls",
            "_model_module_version": "1.5.0",
            "_model_name": "HTMLModel",
            "_view_count": null,
            "_view_module": "@jupyter-widgets/controls",
            "_view_module_version": "1.5.0",
            "_view_name": "HTMLView",
            "description": "",
            "description_tooltip": null,
            "layout": "IPY_MODEL_8bf8d2ce56f04a1aa61a79e6fd9a918f",
            "placeholder": "​",
            "style": "IPY_MODEL_79a1886b93b14350a25ee547cfbd09f5",
            "value": " 4542/4542 [00:00&lt;00:00, 122924.88it/s]"
          }
        },
        "b43b2782dcf24a08806fdf4f87628ca4": {
          "model_module": "@jupyter-widgets/base",
          "model_name": "LayoutModel",
          "model_module_version": "1.2.0",
          "state": {
            "_model_module": "@jupyter-widgets/base",
            "_model_module_version": "1.2.0",
            "_model_name": "LayoutModel",
            "_view_count": null,
            "_view_module": "@jupyter-widgets/base",
            "_view_module_version": "1.2.0",
            "_view_name": "LayoutView",
            "align_content": null,
            "align_items": null,
            "align_self": null,
            "border": null,
            "bottom": null,
            "display": null,
            "flex": null,
            "flex_flow": null,
            "grid_area": null,
            "grid_auto_columns": null,
            "grid_auto_flow": null,
            "grid_auto_rows": null,
            "grid_column": null,
            "grid_gap": null,
            "grid_row": null,
            "grid_template_areas": null,
            "grid_template_columns": null,
            "grid_template_rows": null,
            "height": null,
            "justify_content": null,
            "justify_items": null,
            "left": null,
            "margin": null,
            "max_height": null,
            "max_width": null,
            "min_height": null,
            "min_width": null,
            "object_fit": null,
            "object_position": null,
            "order": null,
            "overflow": null,
            "overflow_x": null,
            "overflow_y": null,
            "padding": null,
            "right": null,
            "top": null,
            "visibility": null,
            "width": null
          }
        },
        "ba3e213813834c6cb8729446497607f1": {
          "model_module": "@jupyter-widgets/base",
          "model_name": "LayoutModel",
          "model_module_version": "1.2.0",
          "state": {
            "_model_module": "@jupyter-widgets/base",
            "_model_module_version": "1.2.0",
            "_model_name": "LayoutModel",
            "_view_count": null,
            "_view_module": "@jupyter-widgets/base",
            "_view_module_version": "1.2.0",
            "_view_name": "LayoutView",
            "align_content": null,
            "align_items": null,
            "align_self": null,
            "border": null,
            "bottom": null,
            "display": null,
            "flex": null,
            "flex_flow": null,
            "grid_area": null,
            "grid_auto_columns": null,
            "grid_auto_flow": null,
            "grid_auto_rows": null,
            "grid_column": null,
            "grid_gap": null,
            "grid_row": null,
            "grid_template_areas": null,
            "grid_template_columns": null,
            "grid_template_rows": null,
            "height": null,
            "justify_content": null,
            "justify_items": null,
            "left": null,
            "margin": null,
            "max_height": null,
            "max_width": null,
            "min_height": null,
            "min_width": null,
            "object_fit": null,
            "object_position": null,
            "order": null,
            "overflow": null,
            "overflow_x": null,
            "overflow_y": null,
            "padding": null,
            "right": null,
            "top": null,
            "visibility": null,
            "width": null
          }
        },
        "4684be1f3631485988766fd8b30625cb": {
          "model_module": "@jupyter-widgets/controls",
          "model_name": "DescriptionStyleModel",
          "model_module_version": "1.5.0",
          "state": {
            "_model_module": "@jupyter-widgets/controls",
            "_model_module_version": "1.5.0",
            "_model_name": "DescriptionStyleModel",
            "_view_count": null,
            "_view_module": "@jupyter-widgets/base",
            "_view_module_version": "1.2.0",
            "_view_name": "StyleView",
            "description_width": ""
          }
        },
        "de8c29b4aa6f4f12a6e60e28ef0dc8ab": {
          "model_module": "@jupyter-widgets/base",
          "model_name": "LayoutModel",
          "model_module_version": "1.2.0",
          "state": {
            "_model_module": "@jupyter-widgets/base",
            "_model_module_version": "1.2.0",
            "_model_name": "LayoutModel",
            "_view_count": null,
            "_view_module": "@jupyter-widgets/base",
            "_view_module_version": "1.2.0",
            "_view_name": "LayoutView",
            "align_content": null,
            "align_items": null,
            "align_self": null,
            "border": null,
            "bottom": null,
            "display": null,
            "flex": null,
            "flex_flow": null,
            "grid_area": null,
            "grid_auto_columns": null,
            "grid_auto_flow": null,
            "grid_auto_rows": null,
            "grid_column": null,
            "grid_gap": null,
            "grid_row": null,
            "grid_template_areas": null,
            "grid_template_columns": null,
            "grid_template_rows": null,
            "height": null,
            "justify_content": null,
            "justify_items": null,
            "left": null,
            "margin": null,
            "max_height": null,
            "max_width": null,
            "min_height": null,
            "min_width": null,
            "object_fit": null,
            "object_position": null,
            "order": null,
            "overflow": null,
            "overflow_x": null,
            "overflow_y": null,
            "padding": null,
            "right": null,
            "top": null,
            "visibility": null,
            "width": null
          }
        },
        "f1412bcd6a8e4052bc77bb01eac2d24c": {
          "model_module": "@jupyter-widgets/controls",
          "model_name": "ProgressStyleModel",
          "model_module_version": "1.5.0",
          "state": {
            "_model_module": "@jupyter-widgets/controls",
            "_model_module_version": "1.5.0",
            "_model_name": "ProgressStyleModel",
            "_view_count": null,
            "_view_module": "@jupyter-widgets/base",
            "_view_module_version": "1.2.0",
            "_view_name": "StyleView",
            "bar_color": null,
            "description_width": ""
          }
        },
        "8bf8d2ce56f04a1aa61a79e6fd9a918f": {
          "model_module": "@jupyter-widgets/base",
          "model_name": "LayoutModel",
          "model_module_version": "1.2.0",
          "state": {
            "_model_module": "@jupyter-widgets/base",
            "_model_module_version": "1.2.0",
            "_model_name": "LayoutModel",
            "_view_count": null,
            "_view_module": "@jupyter-widgets/base",
            "_view_module_version": "1.2.0",
            "_view_name": "LayoutView",
            "align_content": null,
            "align_items": null,
            "align_self": null,
            "border": null,
            "bottom": null,
            "display": null,
            "flex": null,
            "flex_flow": null,
            "grid_area": null,
            "grid_auto_columns": null,
            "grid_auto_flow": null,
            "grid_auto_rows": null,
            "grid_column": null,
            "grid_gap": null,
            "grid_row": null,
            "grid_template_areas": null,
            "grid_template_columns": null,
            "grid_template_rows": null,
            "height": null,
            "justify_content": null,
            "justify_items": null,
            "left": null,
            "margin": null,
            "max_height": null,
            "max_width": null,
            "min_height": null,
            "min_width": null,
            "object_fit": null,
            "object_position": null,
            "order": null,
            "overflow": null,
            "overflow_x": null,
            "overflow_y": null,
            "padding": null,
            "right": null,
            "top": null,
            "visibility": null,
            "width": null
          }
        },
        "79a1886b93b14350a25ee547cfbd09f5": {
          "model_module": "@jupyter-widgets/controls",
          "model_name": "DescriptionStyleModel",
          "model_module_version": "1.5.0",
          "state": {
            "_model_module": "@jupyter-widgets/controls",
            "_model_module_version": "1.5.0",
            "_model_name": "DescriptionStyleModel",
            "_view_count": null,
            "_view_module": "@jupyter-widgets/base",
            "_view_module_version": "1.2.0",
            "_view_name": "StyleView",
            "description_width": ""
          }
        }
      }
    },
    "accelerator": "GPU"
  },
  "cells": [
    {
      "cell_type": "code",
      "execution_count": 1,
      "metadata": {
        "id": "MB2l8rI4t1Wg"
      },
      "outputs": [],
      "source": [
        "import torch\n",
        "import torch.nn as nn\n",
        "import torchvision.transforms as transforms\n",
        "from torchvision import datasets\n",
        "import matplotlib.pyplot as plt\n",
        "import numpy as np\n",
        "from sklearn.model_selection import train_test_split\n",
        "\n",
        "%matplotlib inline"
      ]
    },
    {
      "cell_type": "code",
      "source": [
        "dataset = datasets.MNIST(root='./', train=True, download=True, transform=transforms.ToTensor())\n",
        "test_dataset = datasets.MNIST(root='./', train=False, download=True, transform=transforms.ToTensor())"
      ],
      "metadata": {
        "id": "4TLQSmrkS4Cw",
        "colab": {
          "base_uri": "https://localhost:8080/",
          "height": 423,
          "referenced_widgets": [
            "5e307a4e1e624f1a8824f68cdb608046",
            "0c811ffa2a01446aaa38fe3b997757a1",
            "d170641daca6468fa6444b48eb89f957",
            "cdc43e9a8308445da20523b015ac898d",
            "e94a9fe1973949e9a4911751a6c4d455",
            "fadae89ff53b454db41f7056366765fc",
            "15e3b502225d430b9025033afbf42dae",
            "3ce1f7ac1ace43f792c001e93ec32e80",
            "5cb12f6d3aae46dfa7890ff820dc7464",
            "2a936b8e80ff46159164c85434b5383a",
            "4b021516df3d43f4a0be004d0bcb5014",
            "ae45cc0908af44c997a4d01de44efe62",
            "0d8b47ac847c45cbbf3091dc9498e14d",
            "7a47cca383904296b080e9cc6ba477ae",
            "5206cd855eb140b5948614a19718ed38",
            "59fbd5263b1a46acabfb79630f46ff63",
            "0e97bb614bd247538995a71d4e533d1c",
            "9c96d4a87e264eb395c6a016742c848c",
            "2bf1b0d9e50c424e9f5c1fd3313a800c",
            "8cc4451ed44a4287aee6ced60f0e5fed",
            "d62aa848f3324330aa02443988517473",
            "47a99438b92e46e2b2d61a61300ba660",
            "7b32273aaf3445cb89e6d6b84d26e95b",
            "9bbef7117aeb4c38b8c2913d980507ad",
            "3dd24d88085b451383017592f004827f",
            "33de89a5621446d2922178259b31dbea",
            "d5eff2c7011643d2b795ecfda88862bb",
            "2a6e0a97a73d4a35a6a6bc1141158f75",
            "b4b00343fe59453ea2b3d63647b3017b",
            "89cdff0adfbf43e69c06d209d6534cd5",
            "a5f30911616b43b1a11a1f2db2a9ac7d",
            "c0e6bd1f691e445a98aecf6c78081c20",
            "0651079d76ed49518831b2a27bfe17fd",
            "6f336842a65e4b9f8194c1c99142ac40",
            "0b272006c64a43a18ebcedb6ce6c4dbc",
            "6e324ad027ea4eee8a3022a186bff44a",
            "4201969a6f7f43878d06d7b594cf1b41",
            "b43b2782dcf24a08806fdf4f87628ca4",
            "ba3e213813834c6cb8729446497607f1",
            "4684be1f3631485988766fd8b30625cb",
            "de8c29b4aa6f4f12a6e60e28ef0dc8ab",
            "f1412bcd6a8e4052bc77bb01eac2d24c",
            "8bf8d2ce56f04a1aa61a79e6fd9a918f",
            "79a1886b93b14350a25ee547cfbd09f5"
          ]
        },
        "outputId": "91347b03-66dd-4763-d351-1efc6690c4bd"
      },
      "execution_count": 2,
      "outputs": [
        {
          "output_type": "stream",
          "name": "stdout",
          "text": [
            "Downloading http://yann.lecun.com/exdb/mnist/train-images-idx3-ubyte.gz\n",
            "Downloading http://yann.lecun.com/exdb/mnist/train-images-idx3-ubyte.gz to ./MNIST/raw/train-images-idx3-ubyte.gz\n"
          ]
        },
        {
          "output_type": "display_data",
          "data": {
            "text/plain": [
              "  0%|          | 0/9912422 [00:00<?, ?it/s]"
            ],
            "application/vnd.jupyter.widget-view+json": {
              "version_major": 2,
              "version_minor": 0,
              "model_id": "5e307a4e1e624f1a8824f68cdb608046"
            }
          },
          "metadata": {}
        },
        {
          "output_type": "stream",
          "name": "stdout",
          "text": [
            "Extracting ./MNIST/raw/train-images-idx3-ubyte.gz to ./MNIST/raw\n",
            "\n",
            "Downloading http://yann.lecun.com/exdb/mnist/train-labels-idx1-ubyte.gz\n",
            "Downloading http://yann.lecun.com/exdb/mnist/train-labels-idx1-ubyte.gz to ./MNIST/raw/train-labels-idx1-ubyte.gz\n"
          ]
        },
        {
          "output_type": "display_data",
          "data": {
            "text/plain": [
              "  0%|          | 0/28881 [00:00<?, ?it/s]"
            ],
            "application/vnd.jupyter.widget-view+json": {
              "version_major": 2,
              "version_minor": 0,
              "model_id": "ae45cc0908af44c997a4d01de44efe62"
            }
          },
          "metadata": {}
        },
        {
          "output_type": "stream",
          "name": "stdout",
          "text": [
            "Extracting ./MNIST/raw/train-labels-idx1-ubyte.gz to ./MNIST/raw\n",
            "\n",
            "Downloading http://yann.lecun.com/exdb/mnist/t10k-images-idx3-ubyte.gz\n",
            "Downloading http://yann.lecun.com/exdb/mnist/t10k-images-idx3-ubyte.gz to ./MNIST/raw/t10k-images-idx3-ubyte.gz\n"
          ]
        },
        {
          "output_type": "display_data",
          "data": {
            "text/plain": [
              "  0%|          | 0/1648877 [00:00<?, ?it/s]"
            ],
            "application/vnd.jupyter.widget-view+json": {
              "version_major": 2,
              "version_minor": 0,
              "model_id": "7b32273aaf3445cb89e6d6b84d26e95b"
            }
          },
          "metadata": {}
        },
        {
          "output_type": "stream",
          "name": "stdout",
          "text": [
            "Extracting ./MNIST/raw/t10k-images-idx3-ubyte.gz to ./MNIST/raw\n",
            "\n",
            "Downloading http://yann.lecun.com/exdb/mnist/t10k-labels-idx1-ubyte.gz\n",
            "Downloading http://yann.lecun.com/exdb/mnist/t10k-labels-idx1-ubyte.gz to ./MNIST/raw/t10k-labels-idx1-ubyte.gz\n"
          ]
        },
        {
          "output_type": "display_data",
          "data": {
            "text/plain": [
              "  0%|          | 0/4542 [00:00<?, ?it/s]"
            ],
            "application/vnd.jupyter.widget-view+json": {
              "version_major": 2,
              "version_minor": 0,
              "model_id": "6f336842a65e4b9f8194c1c99142ac40"
            }
          },
          "metadata": {}
        },
        {
          "output_type": "stream",
          "name": "stdout",
          "text": [
            "Extracting ./MNIST/raw/t10k-labels-idx1-ubyte.gz to ./MNIST/raw\n",
            "\n"
          ]
        }
      ]
    },
    {
      "cell_type": "code",
      "source": [
        "train_dataset, val_dataset = train_test_split(dataset, test_size=0.1)"
      ],
      "metadata": {
        "id": "dK2JFmjPfELB"
      },
      "execution_count": 3,
      "outputs": []
    },
    {
      "cell_type": "code",
      "source": [
        "train_loader = torch.utils.data.DataLoader(dataset=train_dataset, batch_size=100, shuffle=True)\n",
        "val_loader = torch.utils.data.DataLoader(dataset=val_dataset, batch_size=100, shuffle=False)\n",
        "test_loader = torch.utils.data.DataLoader(dataset=test_dataset, batch_size=10000, shuffle=False)"
      ],
      "metadata": {
        "id": "LKbjKCkhUKRS"
      },
      "execution_count": 4,
      "outputs": []
    },
    {
      "cell_type": "markdown",
      "source": [
        "Visualization"
      ],
      "metadata": {
        "id": "xXPhCd1FcdBk"
      }
    },
    {
      "cell_type": "code",
      "source": [
        "k = 0\n",
        "f, ax = plt.subplots(5, 5, figsize=(12, 12))\n",
        "example = iter(train_loader)\n",
        "samples, targets = example.next()\n",
        "\n",
        "for i in range(5):\n",
        "  for j in range(5):    \n",
        "    ax[i, j].imshow(samples[k].numpy().squeeze(0), cmap='gray')\n",
        "    ax[i, j].set_title(targets[k].item())\n",
        "    ax[i, j].axis('off')\n",
        "\n",
        "    k += 1\n",
        "plt.show()"
      ],
      "metadata": {
        "colab": {
          "base_uri": "https://localhost:8080/",
          "height": 699
        },
        "id": "XgS9Qt1_UKTX",
        "outputId": "a08d085b-3be0-4b32-98f5-ce8b0b69ba3a"
      },
      "execution_count": 5,
      "outputs": [
        {
          "output_type": "display_data",
          "data": {
            "text/plain": [
              "<Figure size 864x864 with 25 Axes>"
            ],
            "image/png": "[encoded data removed]"
          },
          "metadata": {
            "needs_background": "light"
          }
        }
      ]
    },
    {
      "cell_type": "markdown",
      "source": [
        "Fully-connected NN classification"
      ],
      "metadata": {
        "id": "Xcl4VqKv2fme"
      }
    },
    {
      "cell_type": "code",
      "source": [
        "class MNISTnet(nn.Module):\n",
        "  def __init__(self, n_hidden_neurons):\n",
        "    super(MNISTnet, self).__init__()\n",
        "    self.fc1 = nn.Linear(784, n_hidden_neurons)\n",
        "    self.act = nn.Sigmoid()\n",
        "    self.fc2 = nn.Linear(n_hidden_neurons, 10)\n",
        "\n",
        "  def forward(self, x):\n",
        "    x = self.fc1(x.view(-1, 784))\n",
        "    x = self.act(x)\n",
        "    x = self.fc2(x)\n",
        "\n",
        "    return x"
      ],
      "metadata": {
        "id": "DI7bHLVHUKWv"
      },
      "execution_count": 6,
      "outputs": []
    },
    {
      "cell_type": "code",
      "source": [
        "device = 'cuda:0' if torch.cuda.is_available() else 'cpu'\n",
        "mnist_net = MNISTnet(50).to(device)"
      ],
      "metadata": {
        "id": "N9h2GPrjZ7Tm"
      },
      "execution_count": 7,
      "outputs": []
    },
    {
      "cell_type": "code",
      "source": [
        "loss_fn = nn.CrossEntropyLoss()\n",
        "optimizer = torch.optim.Adam(mnist_net.parameters(), lr=1e-3)"
      ],
      "metadata": {
        "id": "nbRfG1X3kle_"
      },
      "execution_count": 8,
      "outputs": []
    },
    {
      "cell_type": "code",
      "source": [
        "def train(model, num_epochs, train_loader, test_loader, optimizer, scheduler=None):\n",
        "  epoch_train_loss = []\n",
        "  epoch_val_loss = []\n",
        "  accuracy_epoch = []\n",
        "\n",
        "  batch_train_loss = []\n",
        "  batch_val_loss = []\n",
        "  accuracy_batch = []\n",
        "\n",
        "  for epoch in range(num_epochs):\n",
        "\n",
        "    model.train()\n",
        "    for features, targets in train_loader:\n",
        "      features = features.to(device)\n",
        "      targets = targets.to(device)\n",
        "      \n",
        "      optimizer.zero_grad()\n",
        "      outputs = model(features)\n",
        "      loss = loss_fn(outputs, targets)\n",
        "      loss.backward()\n",
        "      optimizer.step()\n",
        "\n",
        "      batch_train_loss.append(loss.item())\n",
        "      \n",
        "    model.eval()\n",
        "    with torch.no_grad():\n",
        "      for features, targets in val_loader:      \n",
        "        features = features.to(device)\n",
        "        targets = targets.to(device)\n",
        "        outputs = model(features)\n",
        "        loss = loss_fn(outputs, targets)\n",
        "        accuracy_value = (outputs.argmax(dim=1) == targets).float().mean()\n",
        "\n",
        "        batch_val_loss.append(loss.item())\n",
        "        accuracy_batch.append(accuracy_value.item())\n",
        "    \n",
        "    epoch_train_loss.append(np.mean(batch_train_loss))\n",
        "    epoch_val_loss.append(np.mean(batch_val_loss))\n",
        "    accuracy_epoch.append(np.mean(accuracy_batch))\n",
        "\n",
        "    batch_train_loss.clear()\n",
        "    batch_val_loss.clear()\n",
        "    accuracy_batch.clear()\n",
        "\n",
        "    if scheduler is not None:\n",
        "      scheduler.step()\n",
        "\n",
        "    print(f'Epoch: {epoch+1}, Train: {epoch_train_loss[-1]}, Test: {epoch_val_loss[-1]}, Accuracy: {accuracy_epoch[-1]}')\n",
        "    print('_'*10, end='\\n\\n')\n",
        "\n",
        "  return model, epoch_train_loss, epoch_val_loss, accuracy_epoch  "
      ],
      "metadata": {
        "id": "65utcMfmkpzk"
      },
      "execution_count": 41,
      "outputs": []
    },
    {
      "cell_type": "code",
      "source": [
        "mnist_net, train_data_loss, val_data_loss, accuracy = train(mnist_net, 20, train_loader, val_loader, optimizer)"
      ],
      "metadata": {
        "id": "PL_EozP3nWdM",
        "colab": {
          "base_uri": "https://localhost:8080/"
        },
        "outputId": "47bcac55-5da7-4f70-f82b-7e9b2b0989d4"
      },
      "execution_count": 10,
      "outputs": [
        {
          "output_type": "stream",
          "name": "stdout",
          "text": [
            "Epoch: 1, Train: 0.8646819956876614, Test: 0.3901957790056864, Accuracy: 0.9074999799331029\n",
            "__________\n",
            "\n",
            "Epoch: 2, Train: 0.33289742505660763, Test: 0.2789628488322099, Accuracy: 0.9271666487058003\n",
            "__________\n",
            "\n",
            "Epoch: 3, Train: 0.2612512792012206, Test: 0.23902370519936084, Accuracy: 0.9341666479905446\n",
            "__________\n",
            "\n",
            "Epoch: 4, Train: 0.22375282457581272, Test: 0.2136583852271239, Accuracy: 0.9398333132266998\n",
            "__________\n",
            "\n",
            "Epoch: 5, Train: 0.1984964940627968, Test: 0.19628151394426824, Accuracy: 0.9438333143790563\n",
            "__________\n",
            "\n",
            "Epoch: 6, Train: 0.1798817851477199, Test: 0.18265181618432205, Accuracy: 0.9476666470368703\n",
            "__________\n",
            "\n",
            "Epoch: 7, Train: 0.1646205761504394, Test: 0.1732707366347313, Accuracy: 0.9496666471163432\n",
            "__________\n",
            "\n",
            "Epoch: 8, Train: 0.15177760536058083, Test: 0.16788732558488845, Accuracy: 0.9496666471163432\n",
            "__________\n",
            "\n",
            "Epoch: 9, Train: 0.14099569758745256, Test: 0.15765654320518177, Accuracy: 0.9518333117167155\n",
            "__________\n",
            "\n",
            "Epoch: 10, Train: 0.13145704547426215, Test: 0.1527025649944941, Accuracy: 0.953333310286204\n",
            "__________\n",
            "\n",
            "Epoch: 11, Train: 0.12279005121025774, Test: 0.14705412282298008, Accuracy: 0.9561666438976923\n",
            "__________\n",
            "\n",
            "Epoch: 12, Train: 0.1156587484775594, Test: 0.1437958954523007, Accuracy: 0.9564999759197235\n",
            "__________\n",
            "\n",
            "Epoch: 13, Train: 0.1083153366352673, Test: 0.13914491770168144, Accuracy: 0.9574999779462814\n",
            "__________\n",
            "\n",
            "Epoch: 14, Train: 0.10203960120884908, Test: 0.13482711780816317, Accuracy: 0.9603333075841268\n",
            "__________\n",
            "\n",
            "Epoch: 15, Train: 0.09654379303877553, Test: 0.13118477410947282, Accuracy: 0.9599999755620956\n",
            "__________\n",
            "\n",
            "Epoch: 16, Train: 0.09136061476267598, Test: 0.12892287687088053, Accuracy: 0.9618333071470261\n",
            "__________\n",
            "\n",
            "Epoch: 17, Train: 0.08670349506730282, Test: 0.127625450057288, Accuracy: 0.9623333066701889\n",
            "__________\n",
            "\n",
            "Epoch: 18, Train: 0.08195347026749342, Test: 0.12646632560839255, Accuracy: 0.9629999727010727\n",
            "__________\n",
            "\n",
            "Epoch: 19, Train: 0.07786581753925592, Test: 0.12324190229798357, Accuracy: 0.9624999741713206\n",
            "__________\n",
            "\n",
            "Epoch: 20, Train: 0.07410561262491952, Test: 0.12260028483966987, Accuracy: 0.963833307226499\n",
            "__________\n",
            "\n"
          ]
        }
      ]
    },
    {
      "cell_type": "code",
      "source": [
        "plt.figure(figsize=(13, 5))\n",
        "plt.plot(train_data_loss, label='train_loss')\n",
        "plt.plot(val_data_loss, label='test_loss')\n",
        "plt.title('Train & test loss')\n",
        "plt.legend()\n",
        "plt.grid()\n",
        "plt.show()"
      ],
      "metadata": {
        "id": "49Xrxm9snWfa",
        "colab": {
          "base_uri": "https://localhost:8080/",
          "height": 336
        },
        "outputId": "0e0be40a-fc3f-4f45-a820-1e3e22a4d1f8"
      },
      "execution_count": 11,
      "outputs": [
        {
          "output_type": "display_data",
          "data": {
            "text/plain": [
              "<Figure size 936x360 with 1 Axes>"
            ],
            "image/png": "[encoded data removed]"
          },
          "metadata": {
            "needs_background": "light"
          }
        }
      ]
    },
    {
      "cell_type": "code",
      "source": [
        "plt.figure(figsize=(13, 5))\n",
        "plt.plot(accuracy, 'g', label='accuracy')\n",
        "plt.title('Accuracy')\n",
        "plt.legend()\n",
        "plt.grid()\n",
        "plt.show()"
      ],
      "metadata": {
        "id": "ExPkib6wnWid",
        "colab": {
          "base_uri": "https://localhost:8080/",
          "height": 336
        },
        "outputId": "17a48460-25dd-4f20-cf79-8a24eb2b05c6"
      },
      "execution_count": 12,
      "outputs": [
        {
          "output_type": "display_data",
          "data": {
            "text/plain": [
              "<Figure size 936x360 with 1 Axes>"
            ],
            "image/png": "[encoded data removed]"
          },
          "metadata": {
            "needs_background": "light"
          }
        }
      ]
    },
    {
      "cell_type": "code",
      "source": [
        "features, targets = iter(test_loader).next()\n",
        "features = features.to(device)\n",
        "targets = targets.to(device)\n",
        "outputs = mnist_net(features)\n",
        "accuracy = (outputs.argmax(dim=1) == targets).float().mean()\n",
        "print('Test accuracy:', round(accuracy.item(), 4))"
      ],
      "metadata": {
        "id": "8CVg-QrcnWlM",
        "colab": {
          "base_uri": "https://localhost:8080/"
        },
        "outputId": "b92c00f7-6e88-456d-f5d1-a38c930335ad"
      },
      "execution_count": 13,
      "outputs": [
        {
          "output_type": "stream",
          "name": "stdout",
          "text": [
            "Test accuracy: 0.9643\n"
          ]
        }
      ]
    },
    {
      "cell_type": "markdown",
      "source": [
        "Convolutional NN classification (LeNet)"
      ],
      "metadata": {
        "id": "EFwqVFWT2rfi"
      }
    },
    {
      "cell_type": "code",
      "source": [
        "train_loader = torch.utils.data.DataLoader(dataset=train_dataset, batch_size=100, shuffle=True)\n",
        "val_loader = torch.utils.data.DataLoader(dataset=val_dataset, batch_size=100, shuffle=False)\n",
        "test_loader = torch.utils.data.DataLoader(dataset=test_dataset, batch_size=10000, shuffle=False)"
      ],
      "metadata": {
        "id": "CO1dl2xYACid"
      },
      "execution_count": 14,
      "outputs": []
    },
    {
      "cell_type": "code",
      "source": [
        "class LeNet5(nn.Module):\n",
        "  def __init__(self):\n",
        "    super(LeNet5, self).__init__()\n",
        "    self.conv1 = nn.Conv2d(in_channels=1, out_channels=6, kernel_size=5, stride=1, padding=2)\n",
        "    self.act = nn.Tanh()\n",
        "    self.pool = nn.AvgPool2d(kernel_size=2, stride=2)\n",
        "    self.conv2 = nn.Conv2d(in_channels=6, out_channels=16, kernel_size=5, stride=1)\n",
        "    self.conv3 = nn.Conv2d(in_channels=16, out_channels=120, kernel_size=5, stride=1)\n",
        "    self.flatten = nn.Flatten()\n",
        "    self.fc1 = nn.Linear(in_features=120, out_features=84)\n",
        "    self.fc2 = nn.Linear(in_features=84, out_features=10)\n",
        "\n",
        "\n",
        "  def forward(self, x):\n",
        "    x = self.pool(self.act(self.conv1(x)))\n",
        "    x = self.pool(self.act(self.conv2(x)))\n",
        "    x = self.act(self.conv3(x))\n",
        "    x = self.flatten(x)\n",
        "    x = self.act(self.fc1(x))\n",
        "    x = self.act(self.fc2(x))\n",
        "    return x"
      ],
      "metadata": {
        "id": "J6fVX8px2a8S"
      },
      "execution_count": 15,
      "outputs": []
    },
    {
      "cell_type": "code",
      "source": [
        "device = 'cuda:0' if torch.cuda.is_available() else 'cpu'\n",
        "le_net = LeNet5().to(device)"
      ],
      "metadata": {
        "id": "Ihf_89MU-1Qd"
      },
      "execution_count": 16,
      "outputs": []
    },
    {
      "cell_type": "code",
      "source": [
        "loss_fn = nn.CrossEntropyLoss()\n",
        "optimizer = torch.optim.Adam(le_net.parameters(), lr=1e-3)"
      ],
      "metadata": {
        "id": "Yk9Khhgd-1Qp"
      },
      "execution_count": 17,
      "outputs": []
    },
    {
      "cell_type": "code",
      "source": [
        "le_net, train_data_loss, val_data_loss, accuracy = train(le_net, 10, train_loader, val_loader, optimizer)"
      ],
      "metadata": {
        "colab": {
          "base_uri": "https://localhost:8080/"
        },
        "id": "IWKGtc4g2a-A",
        "outputId": "53f4e53e-f6bf-49e2-bf8f-749cf03a51d2"
      },
      "execution_count": 18,
      "outputs": [
        {
          "output_type": "stream",
          "name": "stdout",
          "text": [
            "Epoch: 1, Train: 1.0700851728518803, Test: 0.897698387503624, Accuracy: 0.9446666489044825\n",
            "__________\n",
            "\n",
            "Epoch: 2, Train: 0.8742930158420845, Test: 0.8600955406824747, Accuracy: 0.9639999757210413\n",
            "__________\n",
            "\n",
            "Epoch: 3, Train: 0.8470744019305264, Test: 0.8516465286413829, Accuracy: 0.9681666404008865\n",
            "__________\n",
            "\n",
            "Epoch: 4, Train: 0.8355480345310988, Test: 0.8394337147474289, Accuracy: 0.9759999692440033\n",
            "__________\n",
            "\n",
            "Epoch: 5, Train: 0.8278886397679647, Test: 0.8356522311766942, Accuracy: 0.9781666318575541\n",
            "__________\n",
            "\n",
            "Epoch: 6, Train: 0.8232833425203959, Test: 0.8286487778027852, Accuracy: 0.9814999709526698\n",
            "__________\n",
            "\n",
            "Epoch: 7, Train: 0.8198253613931161, Test: 0.8281217734018962, Accuracy: 0.981499969959259\n",
            "__________\n",
            "\n",
            "Epoch: 8, Train: 0.8162621313775027, Test: 0.8236464371283849, Accuracy: 0.984499971071879\n",
            "__________\n",
            "\n",
            "Epoch: 9, Train: 0.8145244635917522, Test: 0.8218763361374537, Accuracy: 0.9854999701182048\n",
            "__________\n",
            "\n",
            "Epoch: 10, Train: 0.8119693222973082, Test: 0.8214821825424831, Accuracy: 0.9841666360696156\n",
            "__________\n",
            "\n"
          ]
        }
      ]
    },
    {
      "cell_type": "code",
      "source": [
        "plt.figure(figsize=(13, 5))\n",
        "plt.plot(train_data_loss, label='train_loss')\n",
        "plt.plot(val_data_loss, label='test_loss')\n",
        "plt.title('Train & test loss')\n",
        "plt.legend()\n",
        "plt.grid()\n",
        "plt.show()"
      ],
      "metadata": {
        "colab": {
          "base_uri": "https://localhost:8080/",
          "height": 336
        },
        "outputId": "2b589cfa-cd2b-4a64-dc7a-4162675db9e2",
        "id": "DJoWlICLBg-N"
      },
      "execution_count": 19,
      "outputs": [
        {
          "output_type": "display_data",
          "data": {
            "text/plain": [
              "<Figure size 936x360 with 1 Axes>"
            ],
            "image/png": "[encoded data removed]"
          },
          "metadata": {
            "needs_background": "light"
          }
        }
      ]
    },
    {
      "cell_type": "code",
      "source": [
        "plt.figure(figsize=(13, 5))\n",
        "plt.plot(accuracy, 'g', label='accuracy')\n",
        "plt.title('Accuracy')\n",
        "plt.legend()\n",
        "plt.grid()\n",
        "plt.show()"
      ],
      "metadata": {
        "colab": {
          "base_uri": "https://localhost:8080/",
          "height": 336
        },
        "outputId": "a290c5e8-b65e-4885-a7b5-d5c383385fbe",
        "id": "LIv4nyGrBg-a"
      },
      "execution_count": 20,
      "outputs": [
        {
          "output_type": "display_data",
          "data": {
            "text/plain": [
              "<Figure size 936x360 with 1 Axes>"
            ],
            "image/png": "[encoded data removed]"
          },
          "metadata": {
            "needs_background": "light"
          }
        }
      ]
    },
    {
      "cell_type": "code",
      "source": [
        "features, targets = iter(test_loader).next()\n",
        "features = features.to(device)\n",
        "targets = targets.to(device)\n",
        "outputs = le_net(features)\n",
        "accuracy = (outputs.argmax(dim=1) == targets).float().mean()\n",
        "print('Test accuracy:', round(accuracy.item(), 4))"
      ],
      "metadata": {
        "colab": {
          "base_uri": "https://localhost:8080/"
        },
        "outputId": "a3e11e16-11e8-4aac-b0a5-24ec3161b359",
        "id": "EW7_rL8UBg-a"
      },
      "execution_count": 21,
      "outputs": [
        {
          "output_type": "stream",
          "name": "stdout",
          "text": [
            "Test accuracy: 0.9856\n"
          ]
        }
      ]
    },
    {
      "cell_type": "markdown",
      "source": [
        "Improved LeNet classification"
      ],
      "metadata": {
        "id": "GYGAuqDcAHiS"
      }
    },
    {
      "cell_type": "code",
      "source": [
        "train_loader = torch.utils.data.DataLoader(dataset=train_dataset, batch_size=100, shuffle=True)\n",
        "val_loader = torch.utils.data.DataLoader(dataset=val_dataset, batch_size=100, shuffle=False)\n",
        "test_loader = torch.utils.data.DataLoader(dataset=test_dataset, batch_size=10000, shuffle=False)"
      ],
      "metadata": {
        "id": "U4E9CGLRAF59"
      },
      "execution_count": 42,
      "outputs": []
    },
    {
      "cell_type": "code",
      "source": [
        "class LeNetULT(nn.Module):\n",
        "  def __init__(self):\n",
        "    super(LeNetULT, self).__init__()\n",
        "    self.conv1 = nn.Conv2d(in_channels=1, out_channels=16, kernel_size=3, stride=1, padding=1)\n",
        "    self.batchnorm1 = nn.BatchNorm2d(16)\n",
        "    self.conv2 = nn.Conv2d(in_channels=16, out_channels=32, kernel_size=3, stride=1, padding=1)\n",
        "    self.batchnorm2 = nn.BatchNorm2d(32)\n",
        "    self.conv3 = nn.Conv2d(in_channels=32, out_channels=64, kernel_size=3, stride=1, padding=1)\n",
        "    self.batchnorm3 = nn.BatchNorm2d(64)\n",
        "    self.flatten = nn.Flatten()\n",
        "    self.fc1 = nn.Linear(in_features=3136, out_features=784)\n",
        "    self.batchnorm4 = nn.BatchNorm1d(784)\n",
        "    self.fc2 = nn.Linear(in_features=784, out_features=10)\n",
        "    self.act = nn.ReLU()\n",
        "    self.pool = nn.MaxPool2d(kernel_size=2, stride=2)\n",
        "\n",
        "  def forward(self, x):\n",
        "    x = self.pool(self.conv1(x))\n",
        "    x = self.act(self.batchnorm1(x))\n",
        "    x = self.pool(self.conv2(x))\n",
        "    x = self.act(self.batchnorm2(x))\n",
        "    x = self.act(self.batchnorm3(self.conv3(x)))\n",
        "    x = self.flatten(x)\n",
        "    x = self.act(self.batchnorm4(self.fc1(x)))\n",
        "    x = self.act(self.fc2(x))\n",
        "    return x"
      ],
      "metadata": {
        "id": "FQSk2iDgxVYr"
      },
      "execution_count": 43,
      "outputs": []
    },
    {
      "cell_type": "code",
      "source": [
        "device = 'cuda:0' if torch.cuda.is_available() else 'cpu'\n",
        "le_net_ult = LeNetULT().to(device)"
      ],
      "metadata": {
        "id": "wRdsZDf8AbyB"
      },
      "execution_count": 44,
      "outputs": []
    },
    {
      "cell_type": "code",
      "source": [
        "loss_fn = nn.CrossEntropyLoss()\n",
        "optimizer = torch.optim.Adam(le_net_ult.parameters(), lr=1e-4)\n",
        "scheduler = torch.optim.lr_scheduler.StepLR(optimizer, step_size=10)"
      ],
      "metadata": {
        "id": "f6HYO97wAbyM"
      },
      "execution_count": 46,
      "outputs": []
    },
    {
      "cell_type": "code",
      "source": [
        "le_net_ult, train_data_loss, val_data_loss, accuracy = train(le_net_ult, 20, train_loader, val_loader, optimizer, scheduler)"
      ],
      "metadata": {
        "colab": {
          "base_uri": "https://localhost:8080/"
        },
        "outputId": "83ae0657-8f5d-4de3-9902-002cde34c5e4",
        "id": "gCULFGkvAbyM"
      },
      "execution_count": 47,
      "outputs": [
        {
          "output_type": "stream",
          "name": "stdout",
          "text": [
            "Epoch: 1, Train: 0.1626753940384973, Test: 0.060935409956922135, Accuracy: 0.9844999670982361\n",
            "__________\n",
            "\n",
            "Epoch: 2, Train: 0.040958587816674955, Test: 0.045193326318015654, Accuracy: 0.986333304643631\n",
            "__________\n",
            "\n",
            "Epoch: 3, Train: 0.021595912647468074, Test: 0.037468871505310135, Accuracy: 0.9879999707142512\n",
            "__________\n",
            "\n",
            "Epoch: 4, Train: 0.012992154288588575, Test: 0.03957710978187, Accuracy: 0.9881666362285614\n",
            "__________\n",
            "\n",
            "Epoch: 5, Train: 0.0075047839567694745, Test: 0.03375073396212732, Accuracy: 0.9888333042462667\n",
            "__________\n",
            "\n",
            "Epoch: 6, Train: 0.0043124758360338295, Test: 0.03761066279063622, Accuracy: 0.9881666392087937\n",
            "__________\n",
            "\n",
            "Epoch: 7, Train: 0.0032670353143691533, Test: 0.03668875048169866, Accuracy: 0.9896666407585144\n",
            "__________\n",
            "\n",
            "Epoch: 8, Train: 0.0032454645544122388, Test: 0.03905164065266339, Accuracy: 0.9881666352351507\n",
            "__________\n",
            "\n",
            "Epoch: 9, Train: 0.0025012920817567242, Test: 0.04343051354808267, Accuracy: 0.9884999722242356\n",
            "__________\n",
            "\n",
            "Epoch: 10, Train: 0.0038276903301367486, Test: 0.03981823762781763, Accuracy: 0.9874999672174454\n",
            "__________\n",
            "\n",
            "Epoch: 11, Train: 0.0022174204086493573, Test: 0.036313141015125436, Accuracy: 0.9891666372617086\n",
            "__________\n",
            "\n",
            "Epoch: 12, Train: 0.0011024847154153072, Test: 0.03605919315790137, Accuracy: 0.9888333042462667\n",
            "__________\n",
            "\n",
            "Epoch: 13, Train: 0.0008718633278072553, Test: 0.0357725962686042, Accuracy: 0.9896666377782821\n",
            "__________\n",
            "\n",
            "Epoch: 14, Train: 0.0007433149890049309, Test: 0.0350158004652864, Accuracy: 0.9896666387716929\n",
            "__________\n",
            "\n",
            "Epoch: 15, Train: 0.0006445924761027089, Test: 0.034534567178343425, Accuracy: 0.99066663980484\n",
            "__________\n",
            "\n",
            "Epoch: 16, Train: 0.0005792806326940923, Test: 0.03449841170901588, Accuracy: 0.9896666367848714\n",
            "__________\n",
            "\n",
            "Epoch: 17, Train: 0.000492382211073332, Test: 0.03444399417494424, Accuracy: 0.9898333042860031\n",
            "__________\n",
            "\n",
            "Epoch: 18, Train: 0.0004604170196250413, Test: 0.034893203580092326, Accuracy: 0.9903333067893982\n",
            "__________\n",
            "\n",
            "Epoch: 19, Train: 0.00038574961853117675, Test: 0.03626891434638916, Accuracy: 0.9898333042860031\n",
            "__________\n",
            "\n",
            "Epoch: 20, Train: 0.0003505384750800052, Test: 0.03588225112907821, Accuracy: 0.9893333037694295\n",
            "__________\n",
            "\n"
          ]
        }
      ]
    },
    {
      "cell_type": "code",
      "source": [
        "plt.figure(figsize=(13, 5))\n",
        "plt.plot(train_data_loss, label='train_loss')\n",
        "plt.plot(val_data_loss, label='test_loss')\n",
        "plt.title('Train & test loss')\n",
        "plt.legend()\n",
        "plt.grid()\n",
        "plt.show()"
      ],
      "metadata": {
        "colab": {
          "base_uri": "https://localhost:8080/",
          "height": 336
        },
        "outputId": "4e9c8add-d97e-4221-f369-b4e2228a1769",
        "id": "yfaKaxMtAgZ-"
      },
      "execution_count": 48,
      "outputs": [
        {
          "output_type": "display_data",
          "data": {
            "text/plain": [
              "<Figure size 936x360 with 1 Axes>"
            ],
            "image/png": "[encoded data removed]"
          },
          "metadata": {
            "needs_background": "light"
          }
        }
      ]
    },
    {
      "cell_type": "code",
      "source": [
        "plt.figure(figsize=(13, 5))\n",
        "plt.plot(accuracy, 'g', label='accuracy')\n",
        "plt.title('Accuracy')\n",
        "plt.legend()\n",
        "plt.grid()\n",
        "plt.show()"
      ],
      "metadata": {
        "colab": {
          "base_uri": "https://localhost:8080/",
          "height": 336
        },
        "outputId": "ea866cb1-108d-45e2-eb37-beaaf437076d",
        "id": "lhEOnB8FAgZ_"
      },
      "execution_count": 49,
      "outputs": [
        {
          "output_type": "display_data",
          "data": {
            "text/plain": [
              "<Figure size 936x360 with 1 Axes>"
            ],
            "image/png": "[encoded data removed]"
          },
          "metadata": {
            "needs_background": "light"
          }
        }
      ]
    },
    {
      "cell_type": "code",
      "source": [
        "features, targets = iter(test_loader).next()\n",
        "features = features.to(device)\n",
        "targets = targets.to(device)\n",
        "outputs = le_net_ult(features)\n",
        "accuracy = (outputs.argmax(dim=1) == targets).float().mean()\n",
        "print('Test accuracy:', round(accuracy.item(), 4))"
      ],
      "metadata": {
        "colab": {
          "base_uri": "https://localhost:8080/"
        },
        "outputId": "0ff124df-f2b0-4501-da2f-0ca17550f1e0",
        "id": "WtegpZZDAgZ_"
      },
      "execution_count": 50,
      "outputs": [
        {
          "output_type": "stream",
          "name": "stdout",
          "text": [
            "Test accuracy: 0.9918\n"
          ]
        }
      ]
    }
  ]
}